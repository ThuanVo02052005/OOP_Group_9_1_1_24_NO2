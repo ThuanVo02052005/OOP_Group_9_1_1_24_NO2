{
 "cells": [
  {
   "cell_type": "code",
   "execution_count": 1,
   "metadata": {},
   "outputs": [
    {
     "name": "stdout",
     "output_type": "stream",
     "text": [
      "24\n"
     ]
    }
   ],
   "source": [
    "#phần 1 \n",
    "#ví dụ 1 \n",
    "def giaithua(n): \n",
    "    if n == 1 : \n",
    "        return 1 \n",
    "    else : \n",
    "        return n * giaithua(n - 1)\n",
    "if __name__ == \"__main__\": \n",
    "    n = int(input(\"nhap vao so n : \"))\n",
    "    print(giaithua(n))"
   ]
  },
  {
   "cell_type": "code",
   "execution_count": 23,
   "metadata": {},
   "outputs": [
    {
     "name": "stdout",
     "output_type": "stream",
     "text": [
      "1\n"
     ]
    }
   ],
   "source": [
    "#vd2 \n",
    "def ucln(a , b):\n",
    "    max = 0 \n",
    "    for i in range( 1 , a + 1):\n",
    "        if a % i == 0  and b % i == 0: \n",
    "            if i > max : \n",
    "                max = i \n",
    "    return max\n",
    "\n",
    "if __name__ == \"__main__\":\n",
    "    a = int(input(\"nhập vào số a : \"))\n",
    "    b = int(input(\"nhập vào số b : \"))\n",
    "    print(ucln(a, b))"
   ]
  },
  {
   "cell_type": "code",
   "execution_count": 22,
   "metadata": {},
   "outputs": [
    {
     "name": "stdout",
     "output_type": "stream",
     "text": [
      "phương trình vô nghiệm \n"
     ]
    }
   ],
   "source": [
    "#vd3 \n",
    "a = float(input(\"A = \"))\n",
    "b = float(input(\"B = \"))\n",
    "c = float(input(\"C = \"))\n",
    "delta = b * b - 4 * a * c \n",
    "if delta == 0 : \n",
    "    print(\"nghiệm kép  : x = \" , str(-b /2/a))\n",
    "if  delta < 0 : \n",
    "    print(\"phương trình vô nghiệm \")\n",
    "if delta > 0 : \n",
    "    print(\"X1 = \" + str((- b - delta ** 0.5)/2/a))\n",
    "    print(\"X2 =  \" + str((-b + delta ** 0.5)/2/a))\n",
    "    \n"
   ]
  },
  {
   "cell_type": "code",
   "execution_count": 20,
   "metadata": {},
   "outputs": [
    {
     "name": "stdout",
     "output_type": "stream",
     "text": [
      "16444745.635659898\n",
      "51959762445.5299\n"
     ]
    }
   ],
   "source": [
    "#bài 2 \n",
    "def nhaplieu():\n",
    "    n = int(input(\"nhập vào số tài khoan: \"))\n",
    "    return n \n",
    "def tk1(taikhoan):\n",
    "    n = 1 \n",
    "    while True : \n",
    "        taikhoan = taikhoan + ((taikhoan * 5.1) / 100)\n",
    "        n += 1 \n",
    "        if n == 11:\n",
    "            return taikhoan \n",
    "def tk2(taikhoan):\n",
    "    while True : \n",
    "        taikhoan = taikhoan + ((taikhoan * 5.1) / 100)\n",
    "        if taikhoan >= 50000000000 : \n",
    "            return taikhoan \n",
    "def main():\n",
    "    taikhoan = nhaplieu()\n",
    "    print(tk1(taikhoan))\n",
    "    print(tk2(taikhoan))\n",
    "if __name__ == \"__main__\":\n",
    "    main()\n",
    "\n"
   ]
  },
  {
   "cell_type": "code",
   "execution_count": 19,
   "metadata": {},
   "outputs": [
    {
     "name": "stdout",
     "output_type": "stream",
     "text": [
      "0x7b\n",
      "0o173\n",
      "123\n",
      "0b1111011\n"
     ]
    }
   ],
   "source": [
    "#bài 3 \n",
    "def nhaplieu():\n",
    "    n = int(input(\"nhập vào số : \"))\n",
    "    return n \n",
    "def chuyen_doi(n):\n",
    "    print(hex(n))\n",
    "    print(oct(n))\n",
    "    print(str(n))\n",
    "    print(bin(n))\n",
    "def main():\n",
    "    n = nhaplieu()\n",
    "    chuyen_doi(n)\n",
    "if __name__ == \"__main__\":\n",
    "    main()\n",
    "\n",
    "\n"
   ]
  },
  {
   "cell_type": "code",
   "execution_count": 18,
   "metadata": {},
   "outputs": [
    {
     "name": "stdout",
     "output_type": "stream",
     "text": [
      "1.3160740129524924\n"
     ]
    }
   ],
   "source": [
    "#bài 4 \n",
    "\n",
    "import math\n",
    "def nhaplieu():\n",
    "    n = int(input(\"nhập vào số : \"))\n",
    "    return n \n",
    "def tinh(a , b):\n",
    "    k = pow(a , 1/b)\n",
    "    return k \n",
    "def main():\n",
    "    a = nhaplieu()\n",
    "    b = nhaplieu()\n",
    "    print(tinh(a , b))\n",
    "if __name__ == \"__main__\":\n",
    "    main()\n",
    "\n"
   ]
  },
  {
   "cell_type": "code",
   "execution_count": 17,
   "metadata": {},
   "outputs": [
    {
     "name": "stdout",
     "output_type": "stream",
     "text": [
      "số lượng chữ số của x :  3\n",
      "chữ số đầu tiên của x =   1\n"
     ]
    }
   ],
   "source": [
    "#bài 5 \n",
    "def nhaplieu():\n",
    "    n = int(input(\"nhập vào số : \"))\n",
    "    return n \n",
    "def dem(n):\n",
    "    dem = 0 \n",
    "\n",
    "    while n != 0 : \n",
    "        k = n % 10 \n",
    "        dem += 1 \n",
    "        n //= 10 \n",
    "    print(\"số lượng chữ số của x : \", dem)\n",
    "    print(\"chữ số đầu tiên của x =  \", k)\n",
    "\n",
    "def main():\n",
    "    n = nhaplieu()\n",
    "    dem(n)\n",
    "if __name__ == \"__main__\":\n",
    "    main()\n"
   ]
  },
  {
   "cell_type": "code",
   "execution_count": 15,
   "metadata": {},
   "outputs": [
    {
     "name": "stdout",
     "output_type": "stream",
     "text": [
      "5.0\n"
     ]
    }
   ],
   "source": [
    "#phần 2 \n",
    "#bài 1 \n",
    "def nhaplieu():\n",
    "    n = int(input(\"nhập vào số : \"))\n",
    "    return n \n",
    "def trungbinhcong( a , b , c , d , e):\n",
    "    sum = (a + b + c + d + e) / 5 \n",
    "    return sum \n",
    "def main():\n",
    "    a = nhaplieu()\n",
    "    b = nhaplieu()\n",
    "    c = nhaplieu()\n",
    "    d = nhaplieu()\n",
    "    e = nhaplieu()\n",
    "    print(trungbinhcong(a , b , c , d , e))\n",
    "\n",
    "if __name__ == \"__main__\":\n",
    "   main()\n"
   ]
  },
  {
   "cell_type": "code",
   "execution_count": 14,
   "metadata": {},
   "outputs": [
    {
     "name": "stdout",
     "output_type": "stream",
     "text": [
      "8.4375\n"
     ]
    }
   ],
   "source": [
    "#bài 2 \n",
    "def nhaplieu():\n",
    "    n = int(input(\"nhập vào số : \"))\n",
    "    return n \n",
    "def area(a , b , c):\n",
    "    p = ( a + b + c) / 2 \n",
    "    dientich = p* (p - a )*(p - b)*(p - c)\n",
    "    return dientich\n",
    "def main():\n",
    "    a = nhaplieu()\n",
    "    b = nhaplieu()\n",
    "    c = nhaplieu()\n",
    "    print(area(a , b , c))\n",
    "if __name__ == \"__main__\":\n",
    "   main()\n",
    "   "
   ]
  },
  {
   "cell_type": "code",
   "execution_count": 13,
   "metadata": {},
   "outputs": [
    {
     "name": "stdout",
     "output_type": "stream",
     "text": [
      "nhập vào tọa độ đỉnh A: \n",
      "nhập vào tọa độ điểm B : \n",
      "nhập vào tọa độ điểm C : \n",
      "0.0\n"
     ]
    }
   ],
   "source": [
    "#bài 3 \n",
    "def nhaplieu():\n",
    "    n = int(input(\"nhập vào số n : \"))\n",
    "    return n \n",
    "def dientich(x1 , y1 , x2 , y2 , x3 , y3):\n",
    "    d1 = ((x2 - x1 ) ** 1/2 + (y2 - y1) ** 1/2) ** 1/2\n",
    "    d2 = ((x3 - x2) ** 1/2 + (y3 - y2) ** 1/2) ** 1/2\n",
    "    d3 = ((x3 - x1) ** 1/2 + (y3 - y1) ** 1/2) ** 1/2 \n",
    "    p = (d1 + d2 + d3)/ 2 \n",
    "    dientich = p*(p - d1)*(p - d2)*(p -d3)\n",
    "    return dientich\n",
    "def main():\n",
    "    print(\"nhập vào tọa độ đỉnh A: \")\n",
    "    x1 = nhaplieu()\n",
    "    y1 = nhaplieu()\n",
    "    print(\"nhập vào tọa độ điểm B : \")\n",
    "    x2 = nhaplieu()\n",
    "    y2 = nhaplieu()\n",
    "    print(\"nhập vào tọa độ điểm C : \")\n",
    "    x3 = nhaplieu()\n",
    "    y3 = nhaplieu()\n",
    "    print(dientich(x1 , y1 , x2 , y2 , x3 , y3))\n",
    "if __name__ == \"__main__\":\n",
    "    main()"
   ]
  },
  {
   "cell_type": "code",
   "execution_count": 11,
   "metadata": {},
   "outputs": [
    {
     "name": "stdout",
     "output_type": "stream",
     "text": [
      "6\n"
     ]
    }
   ],
   "source": [
    "#bài 4 \n",
    "def nhaplieu():\n",
    "    n = int(input(\"nhập vào số n : \"))\n",
    "    return n \n",
    "\n",
    "def total(n):\n",
    "    tong = 0 \n",
    "    while n > 0 : \n",
    "        k = n % 10 \n",
    "        tong += k \n",
    "        n //= 10 \n",
    "    return tong \n",
    "def main():\n",
    "    n = nhaplieu()\n",
    "    print(total(n))\n",
    "if __name__ == \"__main__\":\n",
    "    main()\n",
    "    "
   ]
  },
  {
   "cell_type": "code",
   "execution_count": 9,
   "metadata": {},
   "outputs": [
    {
     "name": "stdout",
     "output_type": "stream",
     "text": [
      "n là số fibonaci\n"
     ]
    }
   ],
   "source": [
    "#bài 5 \n",
    "def nhaplieu():\n",
    "    n = int(input(\"nhập vào số n : \"))\n",
    "    return n \n",
    "\n",
    "def isFibo(n):\n",
    "    N0 = 0 \n",
    "    N1 = 1 \n",
    "    k = 0 \n",
    "    while n < 1000000 : \n",
    "        N2 = N0 + N1 \n",
    "\n",
    "        N0 = N1 \n",
    "        N1 = N2 \n",
    "        if n == N2 : \n",
    "            return 1\n",
    "            \n",
    "        k += 1 \n",
    "    return 0 \n",
    "def main():\n",
    "    n = nhaplieu()\n",
    "    if(isFibo(n)):\n",
    "        print(\"n là số fibonaci\")\n",
    "    else : \n",
    "        print(\"n không phải là số fibonaci\")\n",
    "\n",
    "    \n",
    "if __name__ == \"__main__\":\n",
    "    main()\n",
    "\n"
   ]
  },
  {
   "cell_type": "code",
   "execution_count": 2,
   "metadata": {},
   "outputs": [
    {
     "name": "stdout",
     "output_type": "stream",
     "text": [
      "46233\n"
     ]
    }
   ],
   "source": [
    "#bài 6 \n",
    "def nhaplieu():\n",
    "    n = int(input(\"nhập vào số n : \"))\n",
    "    return n \n",
    "def tong(n):\n",
    "    if n == 1 : \n",
    "        return 1 \n",
    "    else : \n",
    "        giaithua = 1 \n",
    "        for i in range (1, n + 1):\n",
    "            giaithua = giaithua * i \n",
    "        return giaithua + tong(n - 1)\n",
    "def main():\n",
    "    n = nhaplieu()\n",
    "    print(tong(n))\n",
    "if __name__== \"__main__\":\n",
    "    main()\n",
    "    "
   ]
  },
  {
   "cell_type": "code",
   "execution_count": 3,
   "metadata": {},
   "outputs": [
    {
     "name": "stdout",
     "output_type": "stream",
     "text": [
      "loai trung binh\n"
     ]
    }
   ],
   "source": [
    "#bài 7\n",
    "def nhaplieu():\n",
    "    n = int(input(\"nhập vào số : \"))\n",
    "    return n \n",
    "\n",
    "def diem(n):\n",
    "    if n < 3.5 : \n",
    "        print(\"loai yeu\")\n",
    "    elif n >= 3.5 and n < 5 : \n",
    "        print(\"loai kem \")\n",
    "    elif n >= 5 and n < 6.5 : \n",
    "        print(\"loai trung binh\")\n",
    "    elif n >= 6.5 and n < 8 : \n",
    "        print(\"loai kha \")\n",
    "    elif n >= 8 and n < 9 : \n",
    "        print(\"loai gioi\")\n",
    "    elif n >= 9 : \n",
    "        print(\"loai xuat sac\")\n",
    "def main():\n",
    "    n = nhaplieu()\n",
    "    diem(n)\n",
    "if __name__ == \"__main__\":\n",
    "   main()"
   ]
  },
  {
   "cell_type": "code",
   "execution_count": 5,
   "metadata": {},
   "outputs": [
    {
     "name": "stdout",
     "output_type": "stream",
     "text": [
      "giá trị lớn nhất trong 3 số :  9\n"
     ]
    }
   ],
   "source": [
    "#bài 8 \n",
    "def nhaplieu():\n",
    "    n = int(input(\"nhập vào số : \"))\n",
    "    return n \n",
    "def so(a , b , c):\n",
    "    if a > b : \n",
    "        max = a \n",
    "        if c > max : \n",
    "            max = c \n",
    "            print(\"giá trị lớn nhất trong 3 số: \", max)\n",
    "    if  a < b  : \n",
    "        max = b \n",
    "        if c > max : \n",
    "            max = c \n",
    "            print(\"giá trị lớn nhất trong 3 số : \", max)\n",
    "    if (a == b and a > c )  :\n",
    "        print(c)\n",
    "    if ( a == c and a > b):\n",
    "        print(b)\n",
    "    if ( b == c and b > a ): \n",
    "        print(a)\n",
    "def main():\n",
    "    a = nhaplieu()\n",
    "    b = nhaplieu()\n",
    "    c = nhaplieu()\n",
    "    so(a , b , c)\n",
    "if __name__ == \"__main__\":\n",
    "    main()\n",
    "    "
   ]
  },
  {
   "cell_type": "code",
   "execution_count": 1,
   "metadata": {},
   "outputs": [
    {
     "name": "stdout",
     "output_type": "stream",
     "text": [
      "ngày=  7 tháng =  7 năm =  2023\n"
     ]
    }
   ],
   "source": [
    "#bài 9 \n",
    "def nhaplieu():\n",
    "    n = int(input(\"nhập vào số : \"))\n",
    "    return n \n",
    "def dmy(d , m , y):\n",
    "    if (m == 4 or m == 6 or m == 9 or m == 11 ): \n",
    "        if ( d > 0 and  d < 30): \n",
    "            d += 1 \n",
    "            print(\"ngày= \", d ,\"tháng = \", m ,\"năm = \", y)\n",
    "        if (d == 30): \n",
    "            d = 1 \n",
    "            y += 1 \n",
    "            print(\"ngày= \", d ,\"tháng = \", m ,\"năm = \", y)\n",
    "    elif (m == 2 ): \n",
    "        if ( y % 400 == 0 or (y % 4 == 0 and y % 100 != 0)):\n",
    "            if d > 0 and m < 29 : \n",
    "                d += 1 \n",
    "                print(\"ngày= \", d ,\"tháng = \", m ,\"năm = \", y)\n",
    "            if d == 29 : \n",
    "                d = 1 \n",
    "                m += 1 \n",
    "                print(\"ngày= \", d ,\"tháng = \", m ,\"năm = \", y)\n",
    "        else : \n",
    "            if d > 0 and d < 28 : \n",
    "                d += 1 \n",
    "                print(\"ngày= \", d ,\"tháng = \", m ,\"năm = \", y)\n",
    "            if d == 28 : \n",
    "                d = 1 \n",
    "                m += 1 \n",
    "                print(\"ngày= \", d ,\"tháng = \", m ,\"năm = \", y)\n",
    "    elif (m == 1 or m == 3 or m == 5 or m == 7 or m == 8 or m == 10 ):\n",
    "        if (d > 0 and d < 31 ): \n",
    "            d += 1 \n",
    "            print(\"ngày= \", d ,\"tháng = \", m ,\"năm = \", y)\n",
    "        if ( d == 31):\n",
    "            d = 1 \n",
    "            m += 1 \n",
    "            print(\"ngày= \", d ,\"tháng = \", m ,\"năm = \", y)\n",
    "    elif ( m == 12 ):\n",
    "        if (d > 0 and d < 31):\n",
    "            d += 1 \n",
    "            print(\"ngày= \", d ,\"tháng = \", m ,\"năm = \", y)\n",
    "        if d == 31 : \n",
    "            d = 1 \n",
    "            m = 1 \n",
    "            y += 1 \n",
    "            print(\"ngày= \", d ,\"tháng = \", m ,\"năm = \", y)\n",
    "def main():\n",
    "    d = nhaplieu()\n",
    "    m = nhaplieu()\n",
    "    y = nhaplieu()\n",
    "    dmy(d, m , y)\n",
    "if __name__ == \"__main__\":\n",
    "    main()\n"
   ]
  }
 ],
 "metadata": {
  "kernelspec": {
   "display_name": "Python 3",
   "language": "python",
   "name": "python3"
  },
  "language_info": {
   "codemirror_mode": {
    "name": "ipython",
    "version": 3
   },
   "file_extension": ".py",
   "mimetype": "text/x-python",
   "name": "python",
   "nbconvert_exporter": "python",
   "pygments_lexer": "ipython3",
   "version": "3.12.4"
  }
 },
 "nbformat": 4,
 "nbformat_minor": 2
}
